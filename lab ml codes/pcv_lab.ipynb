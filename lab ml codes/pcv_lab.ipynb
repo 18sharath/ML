{
 "cells": [
  {
   "cell_type": "code",
   "execution_count": 1,
   "metadata": {},
   "outputs": [],
   "source": [
    "import numpy as np\n",
    "import matplotlib.pyplot as plt\n",
    "from sklearn.datasets import fetch_openml\n",
    "from sklearn.decomposition import PCA\n",
    "from sklearn.preprocessing import StandardScaler\n"
   ]
  },
  {
   "cell_type": "code",
   "execution_count": 2,
   "metadata": {},
   "outputs": [
    {
     "name": "stdout",
     "output_type": "stream",
     "text": [
      "Dataset shape: (70000, 784)\n",
      "Labels shape: (70000,)\n"
     ]
    }
   ],
   "source": [
    "# Load the MNIST dataset\n",
    "mnist = fetch_openml('mnist_784', version=1)\n",
    "\n",
    "# Extract data and labels\n",
    "X = mnist.data  # Feature matrix (70,000 samples, 784 features)\n",
    "y = mnist.target  # Labels (digits 0-9)\n",
    "\n",
    "print(f\"Dataset shape: {X.shape}\")\n",
    "print(f\"Labels shape: {y.shape}\")\n"
   ]
  },
  {
   "cell_type": "code",
   "execution_count": 3,
   "metadata": {},
   "outputs": [],
   "source": [
    "scaler=StandardScaler()\n",
    "x_scaled=scaler.fit_transform(X)"
   ]
  },
  {
   "cell_type": "code",
   "execution_count": 14,
   "metadata": {},
   "outputs": [],
   "source": [
    "pca=PCA(n_components=5)  #if we wrote =0.95 it means select the components which has atleast 95% of the variance of dataset\n",
    "X_pca=pca.fit(x_scaled)"
   ]
  },
  {
   "cell_type": "code",
   "execution_count": 12,
   "metadata": {},
   "outputs": [
    {
     "data": {
      "text/plain": [
       "array([0.05642719, 0.04041226, 0.03738273, 0.02893   , 0.02520752])"
      ]
     },
     "execution_count": 12,
     "metadata": {},
     "output_type": "execute_result"
    }
   ],
   "source": [
    "pca.explained_variance_ratio_"
   ]
  },
  {
   "cell_type": "code",
   "execution_count": 13,
   "metadata": {},
   "outputs": [
    {
     "name": "stdout",
     "output_type": "stream",
     "text": [
      "[0.05642719 0.09683945 0.13422218 0.16315218 0.1883597 ]\n",
      "1\n"
     ]
    }
   ],
   "source": [
    "cumsum=np.cumsum(pca.explained_variance_ratio_)\n",
    "print(cumsum)   #Adds up the explained variance ratios to calculate the total variance explained by the first k components.\n",
    "d=np.argmax(cumsum>=0.95)+1 #np.argmax gives the index of the component.  Finds the index of the first element in cumsum that is greater than or equal to 0.95 (95%).\n",
    "print(d)"
   ]
  },
  {
   "cell_type": "code",
   "execution_count": 17,
   "metadata": {},
   "outputs": [
    {
     "name": "stdout",
     "output_type": "stream",
     "text": [
      "[[-0.89171985 -4.9297109  -0.09303758 ... -0.30195504  0.34914432\n",
      "  -0.75236794]\n",
      " [ 8.81353003 -7.51756046 -3.71418494 ...  0.06624713 -0.31683963\n",
      "  -0.18031208]\n",
      " [ 2.20483541  9.82446089 -5.75248779 ...  1.22701746 -0.57933675\n",
      "  -0.58560677]\n",
      " ...\n",
      " [-5.22259497 -1.18431579 -4.75472539 ...  0.12880238  0.1570488\n",
      "  -0.15444026]\n",
      " [-2.17772858 -6.99503251 -3.2287368  ... -0.35058249 -0.38437844\n",
      "   0.31056431]\n",
      " [11.77787167 -5.40298122  2.32272519 ... -0.11069167  0.15354898\n",
      "   0.11826091]]\n",
      "332\n"
     ]
    }
   ],
   "source": [
    "pca=PCA(n_components=0.95)\n",
    "X_pca=pca.fit_transform(x_scaled)\n",
    "print(X_pca)\n",
    "print(pca.n_components_)\n"
   ]
  },
  {
   "cell_type": "code",
   "execution_count": 18,
   "metadata": {},
   "outputs": [
    {
     "data": {
      "text/plain": [
       "0.9500311796713798"
      ]
     },
     "execution_count": 18,
     "metadata": {},
     "output_type": "execute_result"
    }
   ],
   "source": [
    "np.sum(pca.explained_variance_ratio_)"
   ]
  },
  {
   "cell_type": "code",
   "execution_count": 20,
   "metadata": {},
   "outputs": [
    {
     "data": {
      "text/plain": [
       "'5'"
      ]
     },
     "execution_count": 20,
     "metadata": {},
     "output_type": "execute_result"
    }
   ],
   "source": [
    "some_digit=X_pca[0]\n",
    "y[0]"
   ]
  },
  {
   "cell_type": "code",
   "execution_count": null,
   "metadata": {},
   "outputs": [],
   "source": []
  }
 ],
 "metadata": {
  "kernelspec": {
   "display_name": "base",
   "language": "python",
   "name": "python3"
  },
  "language_info": {
   "codemirror_mode": {
    "name": "ipython",
    "version": 3
   },
   "file_extension": ".py",
   "mimetype": "text/x-python",
   "name": "python",
   "nbconvert_exporter": "python",
   "pygments_lexer": "ipython3",
   "version": "3.12.7"
  }
 },
 "nbformat": 4,
 "nbformat_minor": 2
}
