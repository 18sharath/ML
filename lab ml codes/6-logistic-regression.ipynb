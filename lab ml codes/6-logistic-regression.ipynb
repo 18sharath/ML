{
 "cells": [
  {
   "cell_type": "code",
   "execution_count": 1,
   "metadata": {
    "_cell_guid": "b1076dfc-b9ad-4769-8c92-a6c4dae69d19",
    "_uuid": "8f2839f25d086af736a60e9eeb907d3b93b6e0e5",
    "execution": {
     "iopub.execute_input": "2025-01-02T18:10:07.281273Z",
     "iopub.status.busy": "2025-01-02T18:10:07.280840Z",
     "iopub.status.idle": "2025-01-02T18:10:07.285948Z",
     "shell.execute_reply": "2025-01-02T18:10:07.284544Z",
     "shell.execute_reply.started": "2025-01-02T18:10:07.281243Z"
    },
    "trusted": true
   },
   "outputs": [],
   "source": [
    "# We will be working with the iris, making veginca as true or flase for the dataset"
   ]
  },
  {
   "cell_type": "code",
   "execution_count": 2,
   "metadata": {
    "execution": {
     "iopub.execute_input": "2025-01-02T18:10:07.288120Z",
     "iopub.status.busy": "2025-01-02T18:10:07.287675Z",
     "iopub.status.idle": "2025-01-02T18:10:07.317433Z",
     "shell.execute_reply": "2025-01-02T18:10:07.316123Z",
     "shell.execute_reply.started": "2025-01-02T18:10:07.288072Z"
    },
    "trusted": true
   },
   "outputs": [],
   "source": [
    "import matplotlib.pyplot as plt\n",
    "import pandas as pd\n",
    "import numpy as np"
   ]
  },
  {
   "cell_type": "code",
   "execution_count": 3,
   "metadata": {
    "execution": {
     "iopub.execute_input": "2025-01-02T18:10:07.320049Z",
     "iopub.status.busy": "2025-01-02T18:10:07.319608Z",
     "iopub.status.idle": "2025-01-02T18:10:07.340545Z",
     "shell.execute_reply": "2025-01-02T18:10:07.339344Z",
     "shell.execute_reply.started": "2025-01-02T18:10:07.320013Z"
    },
    "trusted": true
   },
   "outputs": [],
   "source": [
    "from sklearn.datasets import load_iris\n",
    "iris = load_iris()"
   ]
  },
  {
   "cell_type": "code",
   "execution_count": 4,
   "metadata": {
    "execution": {
     "iopub.execute_input": "2025-01-02T18:10:07.342822Z",
     "iopub.status.busy": "2025-01-02T18:10:07.342495Z",
     "iopub.status.idle": "2025-01-02T18:10:07.362045Z",
     "shell.execute_reply": "2025-01-02T18:10:07.360760Z",
     "shell.execute_reply.started": "2025-01-02T18:10:07.342794Z"
    },
    "trusted": true
   },
   "outputs": [],
   "source": [
    "X = iris.data\n",
    "y = iris.target"
   ]
  },
  {
   "cell_type": "code",
   "execution_count": 5,
   "metadata": {
    "execution": {
     "iopub.execute_input": "2025-01-02T18:10:07.363609Z",
     "iopub.status.busy": "2025-01-02T18:10:07.363285Z",
     "iopub.status.idle": "2025-01-02T18:10:07.384345Z",
     "shell.execute_reply": "2025-01-02T18:10:07.383005Z",
     "shell.execute_reply.started": "2025-01-02T18:10:07.363571Z"
    },
    "trusted": true
   },
   "outputs": [
    {
     "data": {
      "text/plain": [
       "array([0, 1, 2])"
      ]
     },
     "execution_count": 5,
     "metadata": {},
     "output_type": "execute_result"
    }
   ],
   "source": [
    "np.unique(y)"
   ]
  },
  {
   "cell_type": "code",
   "execution_count": 6,
   "metadata": {
    "execution": {
     "iopub.execute_input": "2025-01-02T18:10:07.386100Z",
     "iopub.status.busy": "2025-01-02T18:10:07.385689Z",
     "iopub.status.idle": "2025-01-02T18:10:07.403384Z",
     "shell.execute_reply": "2025-01-02T18:10:07.402146Z",
     "shell.execute_reply.started": "2025-01-02T18:10:07.386067Z"
    },
    "trusted": true
   },
   "outputs": [],
   "source": [
    "# I am applying the binary classifier for the y==2 or not\n",
    "y_1 = y==2"
   ]
  },
  {
   "cell_type": "code",
   "execution_count": 7,
   "metadata": {
    "execution": {
     "iopub.execute_input": "2025-01-02T18:10:07.404747Z",
     "iopub.status.busy": "2025-01-02T18:10:07.404428Z",
     "iopub.status.idle": "2025-01-02T18:10:07.428072Z",
     "shell.execute_reply": "2025-01-02T18:10:07.426855Z",
     "shell.execute_reply.started": "2025-01-02T18:10:07.404720Z"
    },
    "trusted": true
   },
   "outputs": [
    {
     "data": {
      "text/plain": [
       "array([False, False, False, False, False, False, False, False, False,\n",
       "       False, False, False, False, False, False, False, False, False,\n",
       "       False, False, False, False, False, False, False, False, False,\n",
       "       False, False, False, False, False, False, False, False, False,\n",
       "       False, False, False, False, False, False, False, False, False,\n",
       "       False, False, False, False, False, False, False, False, False,\n",
       "       False, False, False, False, False, False, False, False, False,\n",
       "       False, False, False, False, False, False, False, False, False,\n",
       "       False, False, False, False, False, False, False, False, False,\n",
       "       False, False, False, False, False, False, False, False, False,\n",
       "       False, False, False, False, False, False, False, False, False,\n",
       "       False,  True,  True,  True,  True,  True,  True,  True,  True,\n",
       "        True,  True,  True,  True,  True,  True,  True,  True,  True,\n",
       "        True,  True,  True,  True,  True,  True,  True,  True,  True,\n",
       "        True,  True,  True,  True,  True,  True,  True,  True,  True,\n",
       "        True,  True,  True,  True,  True,  True,  True,  True,  True,\n",
       "        True,  True,  True,  True,  True,  True])"
      ]
     },
     "execution_count": 7,
     "metadata": {},
     "output_type": "execute_result"
    }
   ],
   "source": [
    "y_1"
   ]
  },
  {
   "cell_type": "code",
   "execution_count": 8,
   "metadata": {
    "execution": {
     "iopub.execute_input": "2025-01-02T18:10:07.431403Z",
     "iopub.status.busy": "2025-01-02T18:10:07.431035Z",
     "iopub.status.idle": "2025-01-02T18:10:07.447652Z",
     "shell.execute_reply": "2025-01-02T18:10:07.446438Z",
     "shell.execute_reply.started": "2025-01-02T18:10:07.431370Z"
    },
    "trusted": true
   },
   "outputs": [],
   "source": [
    "from sklearn.model_selection import train_test_split\n",
    "X_train, X_test, y_train, y_test = train_test_split(X, y_1, test_size=0.2, random_state=42)    "
   ]
  },
  {
   "cell_type": "code",
   "execution_count": 9,
   "metadata": {
    "execution": {
     "iopub.execute_input": "2025-01-02T18:10:07.449522Z",
     "iopub.status.busy": "2025-01-02T18:10:07.449129Z",
     "iopub.status.idle": "2025-01-02T18:10:07.471475Z",
     "shell.execute_reply": "2025-01-02T18:10:07.470231Z",
     "shell.execute_reply.started": "2025-01-02T18:10:07.449494Z"
    },
    "trusted": true
   },
   "outputs": [],
   "source": [
    "from sklearn.preprocessing import StandardScaler\n",
    "scaler = StandardScaler()\n",
    "X_train_scale = scaler.fit_transform(X_train)\n",
    "X_test_scale = scaler.transform(X_test)"
   ]
  },
  {
   "cell_type": "code",
   "execution_count": 10,
   "metadata": {
    "execution": {
     "iopub.execute_input": "2025-01-02T18:10:07.473113Z",
     "iopub.status.busy": "2025-01-02T18:10:07.472716Z",
     "iopub.status.idle": "2025-01-02T18:10:07.501958Z",
     "shell.execute_reply": "2025-01-02T18:10:07.500532Z",
     "shell.execute_reply.started": "2025-01-02T18:10:07.473081Z"
    },
    "trusted": true
   },
   "outputs": [],
   "source": [
    "from sklearn.linear_model import LogisticRegression\n",
    "lr = LogisticRegression()\n",
    "lr.fit(X_train_scale, y_train)\n",
    "y_pred = lr.predict(X_test_scale)"
   ]
  },
  {
   "cell_type": "code",
   "execution_count": 11,
   "metadata": {
    "execution": {
     "iopub.execute_input": "2025-01-02T18:10:07.503381Z",
     "iopub.status.busy": "2025-01-02T18:10:07.503054Z",
     "iopub.status.idle": "2025-01-02T18:10:07.527415Z",
     "shell.execute_reply": "2025-01-02T18:10:07.526073Z",
     "shell.execute_reply.started": "2025-01-02T18:10:07.503352Z"
    },
    "trusted": true
   },
   "outputs": [
    {
     "name": "stdout",
     "output_type": "stream",
     "text": [
      "accuracy_score  1.0\n",
      "Confusion matrix  [[19  0]\n",
      " [ 0 11]]\n",
      "Classification report                precision    recall  f1-score   support\n",
      "\n",
      "       False       1.00      1.00      1.00        19\n",
      "        True       1.00      1.00      1.00        11\n",
      "\n",
      "    accuracy                           1.00        30\n",
      "   macro avg       1.00      1.00      1.00        30\n",
      "weighted avg       1.00      1.00      1.00        30\n",
      "\n"
     ]
    }
   ],
   "source": [
    "from sklearn.metrics import accuracy_score, confusion_matrix, classification_report\n",
    "print(\"accuracy_score \", accuracy_score(y_pred, y_test))\n",
    "print(\"Confusion matrix \", confusion_matrix(y_pred, y_test))\n",
    "print(\"Classification report \", classification_report(y_pred, y_test))"
   ]
  },
  {
   "cell_type": "code",
   "execution_count": 12,
   "metadata": {
    "execution": {
     "iopub.execute_input": "2025-01-02T18:10:07.529529Z",
     "iopub.status.busy": "2025-01-02T18:10:07.529173Z",
     "iopub.status.idle": "2025-01-02T18:10:07.564201Z",
     "shell.execute_reply": "2025-01-02T18:10:07.563048Z",
     "shell.execute_reply.started": "2025-01-02T18:10:07.529495Z"
    },
    "trusted": true
   },
   "outputs": [
    {
     "name": "stdout",
     "output_type": "stream",
     "text": [
      "Cross-validation scores: [0.95833333 0.95833333 0.875      0.95833333 0.95833333]\n",
      "Mean cross-validation score: 0.9416666666666668\n"
     ]
    }
   ],
   "source": [
    "from sklearn.model_selection import cross_val_score\n",
    "scores = cross_val_score(lr, X_train_scale, y_train, cv=5)\n",
    "print(\"Cross-validation scores:\", scores)\n",
    "print(\"Mean cross-validation score:\", scores.mean()) "
   ]
  }
 ],
 "metadata": {
  "kaggle": {
   "accelerator": "none",
   "dataSources": [],
   "dockerImageVersionId": 30822,
   "isGpuEnabled": false,
   "isInternetEnabled": false,
   "language": "python",
   "sourceType": "notebook"
  },
  "kernelspec": {
   "display_name": "base",
   "language": "python",
   "name": "python3"
  },
  "language_info": {
   "codemirror_mode": {
    "name": "ipython",
    "version": 3
   },
   "file_extension": ".py",
   "mimetype": "text/x-python",
   "name": "python",
   "nbconvert_exporter": "python",
   "pygments_lexer": "ipython3",
   "version": "3.12.7"
  }
 },
 "nbformat": 4,
 "nbformat_minor": 4
}
